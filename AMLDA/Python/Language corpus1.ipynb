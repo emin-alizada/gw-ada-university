{
 "cells": [
  {
   "cell_type": "code",
   "execution_count": null,
   "outputs": [],
   "source": [
    "import pandas as pd\n",
    "import nltk\n",
    "import tensorflow as tf\n",
    "import string\n",
    "import re\n",
    "import numpy as np\n",
    "from scipy import linalg\n",
    "from collections import defaultdict"
   ],
   "metadata": {
    "collapsed": false
   }
  },
  {
   "cell_type": "code",
   "execution_count": 32,
   "id": "a134e342",
   "metadata": {},
   "outputs": [],
   "source": [
    "df=pd.read_excel(\"azeri_news.xlsx\")"
   ]
  },
  {
   "cell_type": "code",
   "execution_count": 33,
   "id": "db12a633",
   "metadata": {},
   "outputs": [],
   "source": [
    "corpus=[]\n",
    "for sentence in df.News_Article:\n",
    "    corpus.append(sentence)"
   ]
  },
  {
   "cell_type": "code",
   "execution_count": 150,
   "id": "f5144feb",
   "metadata": {},
   "outputs": [
    {
     "data": {
      "text/plain": [
       "'Naviforce Sport Saat 2016 Yapon Mexanizmi Yapon batareykasi Deri Kəmər 1 İL zəmanət Pasport Qutu Su Keçirmir 3 ATM İNDİ SİFARİŞ ET ƏLAQƏ ÜÇÜN 055 239 54 49 BURADAN SİFARİŞ ET var SC_CId = \"150627\",SC_Domain=\"n.ads3-adnow.com\";SC_Start_150627=(new Date).getTime(); Sağlamlıq \\xa0 '"
      ]
     },
     "execution_count": 150,
     "metadata": {},
     "output_type": "execute_result"
    }
   ],
   "source": [
    "corpus[0]"
   ]
  },
  {
   "cell_type": "markdown",
   "id": "45cbcf80",
   "metadata": {},
   "source": [
    "## Corpus cleaning"
   ]
  },
  {
   "cell_type": "code",
   "execution_count": 34,
   "id": "b79a5a18",
   "metadata": {},
   "outputs": [
    {
     "data": {
      "text/plain": [
       "'!\"#$%&\\'()*+,-./:;<=>?@[\\\\]^_`{|}~'"
      ]
     },
     "execution_count": 34,
     "metadata": {},
     "output_type": "execute_result"
    }
   ],
   "source": [
    "string.punctuation"
   ]
  },
  {
   "cell_type": "code",
   "execution_count": 35,
   "id": "55b7fab0",
   "metadata": {},
   "outputs": [],
   "source": [
    "#corpus[0] = re.sub(r'https?://[^\\s\\n\\r]+', '', corpus[0])"
   ]
  },
  {
   "cell_type": "code",
   "execution_count": 44,
   "id": "aba49793",
   "metadata": {},
   "outputs": [],
   "source": [
    "clean_corpus=[re.sub(r'https?://[^\\s\\n\\r]+', '', corpus_i) for corpus_i in corpus] \n",
    "clean_corpus=[re.sub(r'[!\"#$%&\\'()*+,-./:;<=>?@^_`{|}~]+', '', corpus_i)for corpus_i in clean_corpus]#necessary"
   ]
  },
  {
   "cell_type": "code",
   "execution_count": 45,
   "id": "2f128f38",
   "metadata": {},
   "outputs": [],
   "source": [
    "tokens_for_vec=[nltk.word_tokenize(corpus_i.lower()) for corpus_i in clean_corpus ]#necessary"
   ]
  },
  {
   "cell_type": "code",
   "execution_count": 46,
   "id": "47364fd4",
   "metadata": {},
   "outputs": [],
   "source": [
    "final_corpus = \" \".join(clean_corpus)\n",
    "final_corpus=final_corpus.lower()"
   ]
  },
  {
   "cell_type": "code",
   "execution_count": 47,
   "id": "41323a6d",
   "metadata": {},
   "outputs": [],
   "source": [
    "tokens = nltk.word_tokenize(final_corpus)"
   ]
  },
  {
   "cell_type": "code",
   "execution_count": 48,
   "id": "6fc7a3d9",
   "metadata": {},
   "outputs": [],
   "source": [
    "tokens=[word for word in tokens if word.isalpha()]# necessary"
   ]
  },
  {
   "cell_type": "code",
   "execution_count": 49,
   "id": "df3da243",
   "metadata": {},
   "outputs": [],
   "source": [
    "clean_tokens=[]\n",
    "for word in tokens:\n",
    "    if word not in [string.punctuation]:\n",
    "        clean_tokens.append(word)"
   ]
  },
  {
   "cell_type": "code",
   "execution_count": null,
   "id": "f3f1f1fc",
   "metadata": {},
   "outputs": [],
   "source": []
  },
  {
   "cell_type": "code",
   "execution_count": 41,
   "id": "ad7a38aa",
   "metadata": {
    "scrolled": true
   },
   "outputs": [],
   "source": [
    "data=[]\n",
    "for document in tokens:\n",
    "    for word in document:\n",
    "        data.append(word)\n",
    "        "
   ]
  },
  {
   "cell_type": "code",
   "execution_count": 171,
   "id": "23bd2ca9",
   "metadata": {},
   "outputs": [
    {
     "data": {
      "text/plain": [
       "6885770"
      ]
     },
     "execution_count": 171,
     "metadata": {},
     "output_type": "execute_result"
    }
   ],
   "source": [
    "len(clean_tokens)"
   ]
  },
  {
   "cell_type": "markdown",
   "id": "4cfe3ce5",
   "metadata": {},
   "source": [
    "## Ngrams and frequency"
   ]
  },
  {
   "cell_type": "code",
   "execution_count": 93,
   "id": "bd7e4be3",
   "metadata": {},
   "outputs": [],
   "source": [
    "from nltk.util import ngrams\n",
    "from collections import Counter\n",
    "\n",
    "\n",
    "# create bigrams\n",
    "trigrams=ngrams(clean_tokens,3)\n",
    "bigrams = ngrams(clean_tokens, 2)\n",
    "unigrams=ngrams(clean_tokens, 1)\n",
    "\n",
    "# count the frequency of each bigram\n",
    "trigrams_freq=Counter(trigrams)\n",
    "bigram_freq = Counter(bigrams)\n",
    "unigram_freq=Counter(unigrams)\n"
   ]
  },
  {
   "cell_type": "code",
   "execution_count": 51,
   "id": "c39d84cb",
   "metadata": {},
   "outputs": [
    {
     "name": "stdout",
     "output_type": "stream",
     "text": [
      "(('xəbər', 'verir', 'ki'), 17718)\n",
      "(('qeyd', 'edək', 'ki'), 10680)\n",
      "(('istinadən', 'xəbər', 'verir'), 10455)\n",
      "(('istinadən', 'bildirir', 'ki'), 4995)\n",
      "(('digər', 'maraqlı', 'xəbərlər'), 3927)\n",
      "(('maraqlı', 'xəbərlər', 'milliazın'), 3927)\n",
      "(('xəbərlər', 'milliazın', 'facebook'), 3925)\n",
      "(('milliazın', 'facebook', 'səhifəsində'), 3909)\n",
      "(('milliaz', 'digər', 'maraqlı'), 3619)\n",
      "(('verir', 'ki', 'bu'), 3491)\n"
     ]
    }
   ],
   "source": [
    "sorted_counter3 = sorted(trigrams_freq.items(), key=lambda x: x[1], reverse=True)\n",
    "for i in sorted_counter3[:10]:\n",
    "    print(i)"
   ]
  },
  {
   "cell_type": "code",
   "execution_count": 52,
   "id": "a2b3bf62",
   "metadata": {},
   "outputs": [
    {
     "name": "stdout",
     "output_type": "stream",
     "text": [
      "(('xəbər', 'verir'), 18749)\n",
      "(('verir', 'ki'), 18244)\n",
      "(('edək', 'ki'), 11326)\n",
      "(('ki', 'bu'), 10712)\n",
      "(('qeyd', 'edək'), 10704)\n",
      "(('istinadən', 'xəbər'), 10588)\n",
      "(('ilə', 'bağlı'), 8420)\n",
      "(('bu', 'gün'), 7619)\n",
      "(('bu', 'barədə'), 7446)\n",
      "(('məlumata', 'görə'), 7288)\n"
     ]
    }
   ],
   "source": [
    "sorted_counter = sorted(bigram_freq.items(), key=lambda x: x[1], reverse=True)\n",
    "for i in sorted_counter[:10]:\n",
    "    print(i)"
   ]
  },
  {
   "cell_type": "code",
   "execution_count": 94,
   "id": "7c941bfa",
   "metadata": {},
   "outputs": [
    {
     "name": "stdout",
     "output_type": "stream",
     "text": [
      "(('və',), 150928)\n",
      "(('ki',), 102428)\n",
      "(('bu',), 88902)\n",
      "(('ilə',), 59937)\n",
      "(('bir',), 47006)\n",
      "(('də',), 40955)\n",
      "(('üçün',), 37691)\n",
      "(('görə',), 35133)\n",
      "(('azərbaycan',), 32703)\n",
      "(('da',), 31742)\n"
     ]
    }
   ],
   "source": [
    "uni_sorted_counter = sorted(unigram_freq.items(), key=lambda x: x[1], reverse=True)\n",
    "for i in uni_sorted_counter[:10]:\n",
    "    print(i)"
   ]
  },
  {
   "cell_type": "code",
   "execution_count": 140,
   "id": "f0d08b03",
   "metadata": {},
   "outputs": [],
   "source": [
    "words=[ i[0][0] for i in uni_sorted_counter]\n",
    "freqs=[ i[1] for i in uni_sorted_counter]"
   ]
  },
  {
   "cell_type": "code",
   "execution_count": 144,
   "id": "3ec2ac2a",
   "metadata": {},
   "outputs": [
    {
     "data": {
      "image/png": "[encoded data removed]",
      "text/plain": [
       "<Figure size 432x288 with 1 Axes>"
      ]
     },
     "metadata": {
      "needs_background": "light"
     },
     "output_type": "display_data"
    }
   ],
   "source": [
    "import matplotlib.pyplot as plt\n",
    "plt.bar(words[:10], freqs[:10])\n",
    "plt.xlabel(\"Words\")\n",
    "plt.ylabel(\"Frequency\")\n",
    "plt.title(\"Frequency Distribution\")\n",
    "plt.show()"
   ]
  },
  {
   "cell_type": "markdown",
   "id": "52641fa2",
   "metadata": {},
   "source": [
    "## Co-occurence matrix"
   ]
  },
  {
   "cell_type": "code",
   "execution_count": 145,
   "id": "007ef1ee",
   "metadata": {},
   "outputs": [],
   "source": [
    "unique_words = set(clean_tokens)"
   ]
  },
  {
   "cell_type": "code",
   "execution_count": 146,
   "id": "7e3565fd",
   "metadata": {},
   "outputs": [],
   "source": [
    "word_to_index = {word: i for i, word in enumerate(unique_words)}"
   ]
  },
  {
   "cell_type": "code",
   "execution_count": 156,
   "id": "68b5dd2f",
   "metadata": {},
   "outputs": [],
   "source": [
    "matrix = np.zeros((len(unique_words), len(unique_words)))\n",
    "\n",
    "window_size = 3\n",
    "for i, word in enumerate(clean_tokens):\n",
    "    for j in range(max(0, i-window_size), min(len(clean_tokens), i+window_size+1)):\n",
    "        if j != i:\n",
    "            matrix[word_to_index[word]][word_to_index[clean_tokens[j]]] += 1\n"
   ]
  },
  {
   "cell_type": "code",
   "execution_count": 169,
   "id": "ac46f97c",
   "metadata": {},
   "outputs": [
    {
     "data": {
      "text/plain": [
       "10.0"
      ]
     },
     "execution_count": 169,
     "metadata": {},
     "output_type": "execute_result"
    }
   ],
   "source": [
    "matrix[word_to_index['saat']][word_to_index['yapon']]"
   ]
  },
  {
   "cell_type": "code",
   "execution_count": null,
   "id": "05a6b27c",
   "metadata": {},
   "outputs": [],
   "source": []
  },
  {
   "cell_type": "code",
   "execution_count": null,
   "id": "4ded37fa",
   "metadata": {},
   "outputs": [],
   "source": []
  },
  {
   "cell_type": "markdown",
   "id": "cf805a42",
   "metadata": {},
   "source": [
    "## Word2Vec"
   ]
  },
  {
   "cell_type": "code",
   "execution_count": 54,
   "id": "ab08dea5",
   "metadata": {},
   "outputs": [],
   "source": [
    "from gensim.models import Word2Vec"
   ]
  },
  {
   "cell_type": "code",
   "execution_count": 55,
   "id": "9923f796",
   "metadata": {},
   "outputs": [],
   "source": [
    "#model = Word2Vec(vector_size=100, window=5, min_count=1, workers=4)\n",
    "#model.build_vocab(clean_tokens, progress_per=10000,)\n",
    "#model.train(clean_tokens, total_examples=model.corpus_count, epochs=30, report_delay=1)\n",
    "# Save the trained model to a file\n",
    "#model.save(\"word2vec_model.bin\")"
   ]
  },
  {
   "cell_type": "code",
   "execution_count": null,
   "id": "d40905f5",
   "metadata": {},
   "outputs": [],
   "source": []
  },
  {
   "cell_type": "code",
   "execution_count": 57,
   "id": "e78f5b39",
   "metadata": {},
   "outputs": [],
   "source": [
    "#CBOW model\n",
    "model = Word2Vec(tokens_for_vec,vector_size=100, window=5, min_count=1, workers=4)"
   ]
  },
  {
   "cell_type": "code",
   "execution_count": 164,
   "id": "11bd2246",
   "metadata": {},
   "outputs": [
    {
     "data": {
      "text/plain": [
       "[('axşam', 0.7521540522575378),\n",
       " ('səhər', 0.7035852670669556),\n",
       " ('günorta', 0.6948028206825256),\n",
       " ('saatlarından', 0.6396806240081787),\n",
       " ('gecə', 0.6356819272041321),\n",
       " ('radələrində', 0.635267436504364),\n",
       " ('lbəyim', 0.6308557391166687),\n",
       " ('saatlıq', 0.6229872703552246),\n",
       " ('vaxtla', 0.6124105453491211),\n",
       " ('dəqiqə', 0.6109160780906677)]"
      ]
     },
     "execution_count": 164,
     "metadata": {},
     "output_type": "execute_result"
    }
   ],
   "source": [
    "model.wv.most_similar(\"saat\")"
   ]
  },
  {
   "cell_type": "code",
   "execution_count": 170,
   "id": "6a32c536",
   "metadata": {},
   "outputs": [
    {
     "data": {
      "text/plain": [
       "(0.35976398, 0.06253983)"
      ]
     },
     "execution_count": 170,
     "metadata": {},
     "output_type": "execute_result"
    }
   ],
   "source": [
    "model.wv.similarity(\"məktəb\", 'kitab'),model.wv.similarity(\"məktəb\", 'futbol')"
   ]
  },
  {
   "cell_type": "code",
   "execution_count": 81,
   "id": "b4655726",
   "metadata": {},
   "outputs": [
    {
     "data": {
      "text/plain": [
       "array([[0.35976398]], dtype=float32)"
      ]
     },
     "execution_count": 81,
     "metadata": {},
     "output_type": "execute_result"
    }
   ],
   "source": [
    "#model.wv.cosine_similarities( np.expand_dims(model.wv[\"kitab\"],axis=1),np.expand_dims(model.wv[\"məktəb\"],axis=0))"
   ]
  },
  {
   "cell_type": "code",
   "execution_count": 1,
   "id": "e5ae1fb0",
   "metadata": {},
   "outputs": [],
   "source": [
    "#model = Word2Vec.load(\"word2vec_model.bin\")\n",
    "#vocab=model.build_vocab(tokens)\n",
    "# Calculate the semantic similarity between two words\n",
    "#similarity = model.wv.cosine_similarities()"
   ]
  },
  {
   "cell_type": "code",
   "execution_count": null,
   "id": "9b442282",
   "metadata": {},
   "outputs": [],
   "source": []
  },
  {
   "cell_type": "code",
   "execution_count": 84,
   "id": "6aeb5a0e",
   "metadata": {},
   "outputs": [],
   "source": [
    "#SkipGram\n",
    "model2 = Word2Vec(tokens_for_vec,vector_size=100, window=5, min_count=1, workers=4,sg = 2)"
   ]
  },
  {
   "cell_type": "code",
   "execution_count": 162,
   "id": "a8ecf9ab",
   "metadata": {},
   "outputs": [
    {
     "data": {
      "text/plain": [
       "[('azərbaycanın', 0.760952353477478),\n",
       " ('respublikası', 0.7412906289100647),\n",
       " ('respublikasının', 0.735689103603363),\n",
       " ('ölkəmizin', 0.7249079942703247),\n",
       " ('ölkəmiz', 0.6953458786010742),\n",
       " ('azərbaycanda', 0.6839665770530701),\n",
       " ('azəbaycan', 0.6767650842666626),\n",
       " ('türkmənistan', 0.6754035353660583),\n",
       " ('ölkəmizdə', 0.6738168001174927),\n",
       " ('gürcüstan', 0.6686011552810669)]"
      ]
     },
     "execution_count": 162,
     "metadata": {},
     "output_type": "execute_result"
    }
   ],
   "source": [
    "model2.wv.most_similar(\"azərbaycan\")"
   ]
  },
  {
   "cell_type": "code",
   "execution_count": null,
   "id": "b3c778fc",
   "metadata": {},
   "outputs": [],
   "source": []
  },
  {
   "cell_type": "code",
   "execution_count": null,
   "id": "c9a0fe39",
   "metadata": {},
   "outputs": [],
   "source": []
  },
  {
   "cell_type": "code",
   "execution_count": null,
   "id": "ea23e4b3",
   "metadata": {},
   "outputs": [],
   "source": []
  }
 ],
 "metadata": {
  "kernelspec": {
   "display_name": "Python 3 (ipykernel)",
   "language": "python",
   "name": "python3"
  },
  "language_info": {
   "codemirror_mode": {
    "name": "ipython",
    "version": 3
   },
   "file_extension": ".py",
   "mimetype": "text/x-python",
   "name": "python",
   "nbconvert_exporter": "python",
   "pygments_lexer": "ipython3",
   "version": "3.10.5"
  }
 },
 "nbformat": 4,
 "nbformat_minor": 5
}
